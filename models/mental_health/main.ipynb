{
 "cells": [
  {
   "cell_type": "code",
   "execution_count": 2,
   "metadata": {},
   "outputs": [],
   "source": [
    "import pandas as pd"
   ]
  },
  {
   "cell_type": "code",
   "execution_count": 3,
   "metadata": {},
   "outputs": [],
   "source": [
    "df=pd.read_csv('dataset.csv')"
   ]
  },
  {
   "cell_type": "code",
   "execution_count": 4,
   "metadata": {},
   "outputs": [
    {
     "data": {
      "text/html": [
       "<div>\n",
       "<style scoped>\n",
       "    .dataframe tbody tr th:only-of-type {\n",
       "        vertical-align: middle;\n",
       "    }\n",
       "\n",
       "    .dataframe tbody tr th {\n",
       "        vertical-align: top;\n",
       "    }\n",
       "\n",
       "    .dataframe thead th {\n",
       "        text-align: right;\n",
       "    }\n",
       "</style>\n",
       "<table border=\"1\" class=\"dataframe\">\n",
       "  <thead>\n",
       "    <tr style=\"text-align: right;\">\n",
       "      <th></th>\n",
       "      <th>Sad or hopeless</th>\n",
       "      <th>Lost interest in activities</th>\n",
       "      <th>Difficulty concentrating</th>\n",
       "      <th>Trouble sleeping or oversleeping</th>\n",
       "      <th>Fatigued or lack energy</th>\n",
       "      <th>Changes in appetite or weight</th>\n",
       "      <th>Feel guilty or worthless</th>\n",
       "      <th>Thoughts of harming self or suicide</th>\n",
       "      <th>Trouble performing daily tasks</th>\n",
       "      <th>Feel disconnected or isolated</th>\n",
       "      <th>Should consult a doctor</th>\n",
       "    </tr>\n",
       "  </thead>\n",
       "  <tbody>\n",
       "    <tr>\n",
       "      <th>0</th>\n",
       "      <td>Very often</td>\n",
       "      <td>Yes, all the time</td>\n",
       "      <td>Yes, all the time</td>\n",
       "      <td>Yes, frequently</td>\n",
       "      <td>Sometimes</td>\n",
       "      <td>Yes, significant changes</td>\n",
       "      <td>Yes, most of the time</td>\n",
       "      <td>Yes, frequently</td>\n",
       "      <td>No, not at all</td>\n",
       "      <td>Sometimes</td>\n",
       "      <td>Yes</td>\n",
       "    </tr>\n",
       "    <tr>\n",
       "      <th>1</th>\n",
       "      <td>Never</td>\n",
       "      <td>Yes, all the time</td>\n",
       "      <td>Yes, all the time</td>\n",
       "      <td>No, not at all</td>\n",
       "      <td>Sometimes</td>\n",
       "      <td>Minor changes</td>\n",
       "      <td>No, not at all</td>\n",
       "      <td>No, not at all</td>\n",
       "      <td>Sometimes</td>\n",
       "      <td>Sometimes</td>\n",
       "      <td>No</td>\n",
       "    </tr>\n",
       "    <tr>\n",
       "      <th>2</th>\n",
       "      <td>Occasionally</td>\n",
       "      <td>No, not at all</td>\n",
       "      <td>Sometimes</td>\n",
       "      <td>Occasionally</td>\n",
       "      <td>Sometimes</td>\n",
       "      <td>No changes</td>\n",
       "      <td>Sometimes</td>\n",
       "      <td>Occasionally</td>\n",
       "      <td>Yes, frequently</td>\n",
       "      <td>No, not at all</td>\n",
       "      <td>No</td>\n",
       "    </tr>\n",
       "    <tr>\n",
       "      <th>3</th>\n",
       "      <td>Very often</td>\n",
       "      <td>Sometimes</td>\n",
       "      <td>Sometimes</td>\n",
       "      <td>Yes, frequently</td>\n",
       "      <td>Sometimes</td>\n",
       "      <td>Minor changes</td>\n",
       "      <td>Yes, most of the time</td>\n",
       "      <td>Yes, frequently</td>\n",
       "      <td>Sometimes</td>\n",
       "      <td>No, not at all</td>\n",
       "      <td>Yes</td>\n",
       "    </tr>\n",
       "    <tr>\n",
       "      <th>4</th>\n",
       "      <td>Never</td>\n",
       "      <td>Sometimes</td>\n",
       "      <td>Sometimes</td>\n",
       "      <td>Occasionally</td>\n",
       "      <td>Sometimes</td>\n",
       "      <td>Yes, significant changes</td>\n",
       "      <td>No, not at all</td>\n",
       "      <td>Yes, frequently</td>\n",
       "      <td>Yes, frequently</td>\n",
       "      <td>Yes, often</td>\n",
       "      <td>Yes</td>\n",
       "    </tr>\n",
       "  </tbody>\n",
       "</table>\n",
       "</div>"
      ],
      "text/plain": [
       "  Sad or hopeless Lost interest in activities Difficulty concentrating  \\\n",
       "0      Very often           Yes, all the time        Yes, all the time   \n",
       "1           Never           Yes, all the time        Yes, all the time   \n",
       "2    Occasionally              No, not at all                Sometimes   \n",
       "3      Very often                   Sometimes                Sometimes   \n",
       "4           Never                   Sometimes                Sometimes   \n",
       "\n",
       "  Trouble sleeping or oversleeping Fatigued or lack energy  \\\n",
       "0                  Yes, frequently               Sometimes   \n",
       "1                   No, not at all               Sometimes   \n",
       "2                     Occasionally               Sometimes   \n",
       "3                  Yes, frequently               Sometimes   \n",
       "4                     Occasionally               Sometimes   \n",
       "\n",
       "  Changes in appetite or weight Feel guilty or worthless  \\\n",
       "0      Yes, significant changes    Yes, most of the time   \n",
       "1                 Minor changes           No, not at all   \n",
       "2                    No changes                Sometimes   \n",
       "3                 Minor changes    Yes, most of the time   \n",
       "4      Yes, significant changes           No, not at all   \n",
       "\n",
       "  Thoughts of harming self or suicide Trouble performing daily tasks  \\\n",
       "0                     Yes, frequently                 No, not at all   \n",
       "1                      No, not at all                      Sometimes   \n",
       "2                        Occasionally                Yes, frequently   \n",
       "3                     Yes, frequently                      Sometimes   \n",
       "4                     Yes, frequently                Yes, frequently   \n",
       "\n",
       "  Feel disconnected or isolated Should consult a doctor  \n",
       "0                     Sometimes                     Yes  \n",
       "1                     Sometimes                      No  \n",
       "2                No, not at all                      No  \n",
       "3                No, not at all                     Yes  \n",
       "4                    Yes, often                     Yes  "
      ]
     },
     "execution_count": 4,
     "metadata": {},
     "output_type": "execute_result"
    }
   ],
   "source": [
    "df.head()"
   ]
  },
  {
   "cell_type": "code",
   "execution_count": 5,
   "metadata": {},
   "outputs": [
    {
     "data": {
      "text/plain": [
       "Lost interest in activities\n",
       "Yes, all the time    168\n",
       "No, not at all       168\n",
       "Sometimes            164\n",
       "Name: count, dtype: int64"
      ]
     },
     "execution_count": 5,
     "metadata": {},
     "output_type": "execute_result"
    }
   ],
   "source": [
    "df['Lost interest in activities'].value_counts()"
   ]
  },
  {
   "cell_type": "code",
   "execution_count": 6,
   "metadata": {},
   "outputs": [
    {
     "name": "stderr",
     "output_type": "stream",
     "text": [
      "/var/folders/c9/0xfhcggs0ml6v_d0sytc5cw40000gn/T/ipykernel_76152/4203165913.py:8: FutureWarning: Downcasting behavior in `replace` is deprecated and will be removed in a future version. To retain the old behavior, explicitly call `result.infer_objects(copy=False)`. To opt-in to the future behavior, set `pd.set_option('future.no_silent_downcasting', True)`\n",
      "  df[\"Sad or hopeless\"] = df[\"Sad or hopeless\"].replace(mapping)\n"
     ]
    }
   ],
   "source": [
    "mapping = {\n",
    "    \"Never\": 0,\n",
    "    \"Rarely\": 1,\n",
    "    \"Occasionally\": 2,\n",
    "    \"Very often\": 3\n",
    "}\n",
    "\n",
    "df[\"Sad or hopeless\"] = df[\"Sad or hopeless\"].replace(mapping)\n"
   ]
  },
  {
   "cell_type": "code",
   "execution_count": 7,
   "metadata": {},
   "outputs": [
    {
     "name": "stderr",
     "output_type": "stream",
     "text": [
      "/var/folders/c9/0xfhcggs0ml6v_d0sytc5cw40000gn/T/ipykernel_76152/2888002539.py:6: FutureWarning: Downcasting behavior in `replace` is deprecated and will be removed in a future version. To retain the old behavior, explicitly call `result.infer_objects(copy=False)`. To opt-in to the future behavior, set `pd.set_option('future.no_silent_downcasting', True)`\n",
      "  df[\"Lost interest in activities\"] = df[\"Lost interest in activities\"].replace(mapping)\n"
     ]
    }
   ],
   "source": [
    "mapping = {\n",
    "    \"Yes, all the time\": 0,\n",
    "    \"No, not at all\": 1,\n",
    "    \"Sometimes\": 2\n",
    "}\n",
    "df[\"Lost interest in activities\"] = df[\"Lost interest in activities\"].replace(mapping)\n",
    "\n"
   ]
  },
  {
   "cell_type": "code",
   "execution_count": 8,
   "metadata": {},
   "outputs": [
    {
     "data": {
      "text/html": [
       "<div>\n",
       "<style scoped>\n",
       "    .dataframe tbody tr th:only-of-type {\n",
       "        vertical-align: middle;\n",
       "    }\n",
       "\n",
       "    .dataframe tbody tr th {\n",
       "        vertical-align: top;\n",
       "    }\n",
       "\n",
       "    .dataframe thead th {\n",
       "        text-align: right;\n",
       "    }\n",
       "</style>\n",
       "<table border=\"1\" class=\"dataframe\">\n",
       "  <thead>\n",
       "    <tr style=\"text-align: right;\">\n",
       "      <th></th>\n",
       "      <th>Sad or hopeless</th>\n",
       "      <th>Lost interest in activities</th>\n",
       "      <th>Difficulty concentrating</th>\n",
       "      <th>Trouble sleeping or oversleeping</th>\n",
       "      <th>Fatigued or lack energy</th>\n",
       "      <th>Changes in appetite or weight</th>\n",
       "      <th>Feel guilty or worthless</th>\n",
       "      <th>Thoughts of harming self or suicide</th>\n",
       "      <th>Trouble performing daily tasks</th>\n",
       "      <th>Feel disconnected or isolated</th>\n",
       "      <th>Should consult a doctor</th>\n",
       "    </tr>\n",
       "  </thead>\n",
       "  <tbody>\n",
       "    <tr>\n",
       "      <th>0</th>\n",
       "      <td>3</td>\n",
       "      <td>0</td>\n",
       "      <td>Yes, all the time</td>\n",
       "      <td>Yes, frequently</td>\n",
       "      <td>Sometimes</td>\n",
       "      <td>Yes, significant changes</td>\n",
       "      <td>Yes, most of the time</td>\n",
       "      <td>Yes, frequently</td>\n",
       "      <td>No, not at all</td>\n",
       "      <td>Sometimes</td>\n",
       "      <td>Yes</td>\n",
       "    </tr>\n",
       "    <tr>\n",
       "      <th>1</th>\n",
       "      <td>0</td>\n",
       "      <td>0</td>\n",
       "      <td>Yes, all the time</td>\n",
       "      <td>No, not at all</td>\n",
       "      <td>Sometimes</td>\n",
       "      <td>Minor changes</td>\n",
       "      <td>No, not at all</td>\n",
       "      <td>No, not at all</td>\n",
       "      <td>Sometimes</td>\n",
       "      <td>Sometimes</td>\n",
       "      <td>No</td>\n",
       "    </tr>\n",
       "    <tr>\n",
       "      <th>2</th>\n",
       "      <td>2</td>\n",
       "      <td>1</td>\n",
       "      <td>Sometimes</td>\n",
       "      <td>Occasionally</td>\n",
       "      <td>Sometimes</td>\n",
       "      <td>No changes</td>\n",
       "      <td>Sometimes</td>\n",
       "      <td>Occasionally</td>\n",
       "      <td>Yes, frequently</td>\n",
       "      <td>No, not at all</td>\n",
       "      <td>No</td>\n",
       "    </tr>\n",
       "    <tr>\n",
       "      <th>3</th>\n",
       "      <td>3</td>\n",
       "      <td>2</td>\n",
       "      <td>Sometimes</td>\n",
       "      <td>Yes, frequently</td>\n",
       "      <td>Sometimes</td>\n",
       "      <td>Minor changes</td>\n",
       "      <td>Yes, most of the time</td>\n",
       "      <td>Yes, frequently</td>\n",
       "      <td>Sometimes</td>\n",
       "      <td>No, not at all</td>\n",
       "      <td>Yes</td>\n",
       "    </tr>\n",
       "    <tr>\n",
       "      <th>4</th>\n",
       "      <td>0</td>\n",
       "      <td>2</td>\n",
       "      <td>Sometimes</td>\n",
       "      <td>Occasionally</td>\n",
       "      <td>Sometimes</td>\n",
       "      <td>Yes, significant changes</td>\n",
       "      <td>No, not at all</td>\n",
       "      <td>Yes, frequently</td>\n",
       "      <td>Yes, frequently</td>\n",
       "      <td>Yes, often</td>\n",
       "      <td>Yes</td>\n",
       "    </tr>\n",
       "  </tbody>\n",
       "</table>\n",
       "</div>"
      ],
      "text/plain": [
       "   Sad or hopeless  Lost interest in activities Difficulty concentrating  \\\n",
       "0                3                            0        Yes, all the time   \n",
       "1                0                            0        Yes, all the time   \n",
       "2                2                            1                Sometimes   \n",
       "3                3                            2                Sometimes   \n",
       "4                0                            2                Sometimes   \n",
       "\n",
       "  Trouble sleeping or oversleeping Fatigued or lack energy  \\\n",
       "0                  Yes, frequently               Sometimes   \n",
       "1                   No, not at all               Sometimes   \n",
       "2                     Occasionally               Sometimes   \n",
       "3                  Yes, frequently               Sometimes   \n",
       "4                     Occasionally               Sometimes   \n",
       "\n",
       "  Changes in appetite or weight Feel guilty or worthless  \\\n",
       "0      Yes, significant changes    Yes, most of the time   \n",
       "1                 Minor changes           No, not at all   \n",
       "2                    No changes                Sometimes   \n",
       "3                 Minor changes    Yes, most of the time   \n",
       "4      Yes, significant changes           No, not at all   \n",
       "\n",
       "  Thoughts of harming self or suicide Trouble performing daily tasks  \\\n",
       "0                     Yes, frequently                 No, not at all   \n",
       "1                      No, not at all                      Sometimes   \n",
       "2                        Occasionally                Yes, frequently   \n",
       "3                     Yes, frequently                      Sometimes   \n",
       "4                     Yes, frequently                Yes, frequently   \n",
       "\n",
       "  Feel disconnected or isolated Should consult a doctor  \n",
       "0                     Sometimes                     Yes  \n",
       "1                     Sometimes                      No  \n",
       "2                No, not at all                      No  \n",
       "3                No, not at all                     Yes  \n",
       "4                    Yes, often                     Yes  "
      ]
     },
     "execution_count": 8,
     "metadata": {},
     "output_type": "execute_result"
    }
   ],
   "source": [
    "df.head()"
   ]
  },
  {
   "cell_type": "markdown",
   "metadata": {},
   "source": []
  },
  {
   "cell_type": "code",
   "execution_count": 9,
   "metadata": {},
   "outputs": [
    {
     "data": {
      "text/plain": [
       "Difficulty concentrating\n",
       "Sometimes            176\n",
       "Yes, all the time    162\n",
       "No, not at all       162\n",
       "Name: count, dtype: int64"
      ]
     },
     "execution_count": 9,
     "metadata": {},
     "output_type": "execute_result"
    }
   ],
   "source": [
    "df['Difficulty concentrating'].value_counts()"
   ]
  },
  {
   "cell_type": "code",
   "execution_count": 10,
   "metadata": {},
   "outputs": [
    {
     "name": "stderr",
     "output_type": "stream",
     "text": [
      "/var/folders/c9/0xfhcggs0ml6v_d0sytc5cw40000gn/T/ipykernel_76152/200657842.py:6: FutureWarning: Downcasting behavior in `replace` is deprecated and will be removed in a future version. To retain the old behavior, explicitly call `result.infer_objects(copy=False)`. To opt-in to the future behavior, set `pd.set_option('future.no_silent_downcasting', True)`\n",
      "  df[\"Difficulty concentrating\"] = df[\"Difficulty concentrating\"].replace(mapping)\n"
     ]
    }
   ],
   "source": [
    "mapping = {\n",
    "    \"Sometimes\": 0,\n",
    "    \"Yes, all the time\": 1,\n",
    "    \"No, not at all\": 2\n",
    "}\n",
    "df[\"Difficulty concentrating\"] = df[\"Difficulty concentrating\"].replace(mapping)\n",
    "\n"
   ]
  },
  {
   "cell_type": "code",
   "execution_count": 11,
   "metadata": {},
   "outputs": [
    {
     "data": {
      "text/plain": [
       "Trouble sleeping or oversleeping\n",
       "Yes, frequently    172\n",
       "Occasionally       170\n",
       "No, not at all     158\n",
       "Name: count, dtype: int64"
      ]
     },
     "execution_count": 11,
     "metadata": {},
     "output_type": "execute_result"
    }
   ],
   "source": [
    "df['Trouble sleeping or oversleeping'].value_counts()"
   ]
  },
  {
   "cell_type": "code",
   "execution_count": 12,
   "metadata": {},
   "outputs": [
    {
     "name": "stderr",
     "output_type": "stream",
     "text": [
      "/var/folders/c9/0xfhcggs0ml6v_d0sytc5cw40000gn/T/ipykernel_76152/2135520613.py:6: FutureWarning: Downcasting behavior in `replace` is deprecated and will be removed in a future version. To retain the old behavior, explicitly call `result.infer_objects(copy=False)`. To opt-in to the future behavior, set `pd.set_option('future.no_silent_downcasting', True)`\n",
      "  df[\"Trouble sleeping or oversleeping\"] = df[\"Trouble sleeping or oversleeping\"].replace(mapping)\n"
     ]
    }
   ],
   "source": [
    "mapping = {\n",
    "    \"Yes, frequently\": 0,\n",
    "    \"Occasionally\": 1,\n",
    "    \"No, not at all\": 2\n",
    "}\n",
    "df[\"Trouble sleeping or oversleeping\"] = df[\"Trouble sleeping or oversleeping\"].replace(mapping)\n",
    "\n"
   ]
  },
  {
   "cell_type": "code",
   "execution_count": 13,
   "metadata": {},
   "outputs": [
    {
     "data": {
      "text/plain": [
       "Fatigued or lack energy\n",
       "Sometimes         181\n",
       "No, not at all    171\n",
       "Yes, most days    148\n",
       "Name: count, dtype: int64"
      ]
     },
     "execution_count": 13,
     "metadata": {},
     "output_type": "execute_result"
    }
   ],
   "source": [
    "df['Fatigued or lack energy'].value_counts()"
   ]
  },
  {
   "cell_type": "code",
   "execution_count": 14,
   "metadata": {},
   "outputs": [
    {
     "name": "stderr",
     "output_type": "stream",
     "text": [
      "/var/folders/c9/0xfhcggs0ml6v_d0sytc5cw40000gn/T/ipykernel_76152/113455191.py:6: FutureWarning: Downcasting behavior in `replace` is deprecated and will be removed in a future version. To retain the old behavior, explicitly call `result.infer_objects(copy=False)`. To opt-in to the future behavior, set `pd.set_option('future.no_silent_downcasting', True)`\n",
      "  df[\"Fatigued or lack energy\"] = df[\"Fatigued or lack energy\"].replace(mapping)\n"
     ]
    }
   ],
   "source": [
    "mapping = {\n",
    "    \"Sometimes\": 0,\n",
    "    \"No, not at all\": 1,\n",
    "    \"Yes, most days\": 2\n",
    "}\n",
    "df[\"Fatigued or lack energy\"] = df[\"Fatigued or lack energy\"].replace(mapping)\n",
    "\n"
   ]
  },
  {
   "cell_type": "code",
   "execution_count": 15,
   "metadata": {},
   "outputs": [
    {
     "data": {
      "text/plain": [
       "Changes in appetite or weight\n",
       "No changes                  177\n",
       "Minor changes               166\n",
       "Yes, significant changes    157\n",
       "Name: count, dtype: int64"
      ]
     },
     "execution_count": 15,
     "metadata": {},
     "output_type": "execute_result"
    }
   ],
   "source": [
    "df['Changes in appetite or weight'].value_counts()"
   ]
  },
  {
   "cell_type": "code",
   "execution_count": 16,
   "metadata": {},
   "outputs": [
    {
     "name": "stderr",
     "output_type": "stream",
     "text": [
      "/var/folders/c9/0xfhcggs0ml6v_d0sytc5cw40000gn/T/ipykernel_76152/2007123666.py:6: FutureWarning: Downcasting behavior in `replace` is deprecated and will be removed in a future version. To retain the old behavior, explicitly call `result.infer_objects(copy=False)`. To opt-in to the future behavior, set `pd.set_option('future.no_silent_downcasting', True)`\n",
      "  df[\"Changes in appetite or weight\"] = df[\"Changes in appetite or weight\"].replace(mapping)\n"
     ]
    }
   ],
   "source": [
    "mapping = {\n",
    "    \"No changes\": 0,\n",
    "    \"Minor changes\": 1,\n",
    "    \"Yes, significant changes\": 2\n",
    "}\n",
    "df[\"Changes in appetite or weight\"] = df[\"Changes in appetite or weight\"].replace(mapping)\n",
    "\n"
   ]
  },
  {
   "cell_type": "markdown",
   "metadata": {},
   "source": [
    "df['Thoughts of harming self or suicide'].value_counts()\n",
    "df['Feel disconnected or isolated'].value_counts()\n",
    "df['Should consult a doctor'].value_counts()"
   ]
  },
  {
   "cell_type": "code",
   "execution_count": 17,
   "metadata": {},
   "outputs": [
    {
     "data": {
      "text/plain": [
       "Feel guilty or worthless\n",
       "No, not at all           171\n",
       "Yes, most of the time    167\n",
       "Sometimes                162\n",
       "Name: count, dtype: int64"
      ]
     },
     "execution_count": 17,
     "metadata": {},
     "output_type": "execute_result"
    }
   ],
   "source": [
    "df['Feel guilty or worthless'].value_counts()\n"
   ]
  },
  {
   "cell_type": "code",
   "execution_count": 18,
   "metadata": {},
   "outputs": [
    {
     "name": "stderr",
     "output_type": "stream",
     "text": [
      "/var/folders/c9/0xfhcggs0ml6v_d0sytc5cw40000gn/T/ipykernel_76152/2088036091.py:6: FutureWarning: Downcasting behavior in `replace` is deprecated and will be removed in a future version. To retain the old behavior, explicitly call `result.infer_objects(copy=False)`. To opt-in to the future behavior, set `pd.set_option('future.no_silent_downcasting', True)`\n",
      "  df[\"Feel guilty or worthless\"] = df[\"Feel guilty or worthless\"].replace(mapping)\n"
     ]
    }
   ],
   "source": [
    "mapping = {\n",
    "    \"No, not at all\": 0,\n",
    "    \"Yes, most of the time\": 1,\n",
    "    \"Sometimes\": 2\n",
    "}\n",
    "df[\"Feel guilty or worthless\"] = df[\"Feel guilty or worthless\"].replace(mapping)\n",
    "\n"
   ]
  },
  {
   "cell_type": "code",
   "execution_count": 19,
   "metadata": {},
   "outputs": [
    {
     "data": {
      "text/plain": [
       "Difficulty concentrating\n",
       "0    176\n",
       "1    162\n",
       "2    162\n",
       "Name: count, dtype: int64"
      ]
     },
     "execution_count": 19,
     "metadata": {},
     "output_type": "execute_result"
    }
   ],
   "source": [
    "df['Difficulty concentrating'].value_counts()"
   ]
  },
  {
   "cell_type": "code",
   "execution_count": 20,
   "metadata": {},
   "outputs": [
    {
     "data": {
      "text/html": [
       "<div>\n",
       "<style scoped>\n",
       "    .dataframe tbody tr th:only-of-type {\n",
       "        vertical-align: middle;\n",
       "    }\n",
       "\n",
       "    .dataframe tbody tr th {\n",
       "        vertical-align: top;\n",
       "    }\n",
       "\n",
       "    .dataframe thead th {\n",
       "        text-align: right;\n",
       "    }\n",
       "</style>\n",
       "<table border=\"1\" class=\"dataframe\">\n",
       "  <thead>\n",
       "    <tr style=\"text-align: right;\">\n",
       "      <th></th>\n",
       "      <th>Sad or hopeless</th>\n",
       "      <th>Lost interest in activities</th>\n",
       "      <th>Difficulty concentrating</th>\n",
       "      <th>Trouble sleeping or oversleeping</th>\n",
       "      <th>Fatigued or lack energy</th>\n",
       "      <th>Changes in appetite or weight</th>\n",
       "      <th>Feel guilty or worthless</th>\n",
       "      <th>Thoughts of harming self or suicide</th>\n",
       "      <th>Trouble performing daily tasks</th>\n",
       "      <th>Feel disconnected or isolated</th>\n",
       "      <th>Should consult a doctor</th>\n",
       "    </tr>\n",
       "  </thead>\n",
       "  <tbody>\n",
       "    <tr>\n",
       "      <th>0</th>\n",
       "      <td>3</td>\n",
       "      <td>0</td>\n",
       "      <td>1</td>\n",
       "      <td>0</td>\n",
       "      <td>0</td>\n",
       "      <td>2</td>\n",
       "      <td>1</td>\n",
       "      <td>Yes, frequently</td>\n",
       "      <td>No, not at all</td>\n",
       "      <td>Sometimes</td>\n",
       "      <td>Yes</td>\n",
       "    </tr>\n",
       "    <tr>\n",
       "      <th>1</th>\n",
       "      <td>0</td>\n",
       "      <td>0</td>\n",
       "      <td>1</td>\n",
       "      <td>2</td>\n",
       "      <td>0</td>\n",
       "      <td>1</td>\n",
       "      <td>0</td>\n",
       "      <td>No, not at all</td>\n",
       "      <td>Sometimes</td>\n",
       "      <td>Sometimes</td>\n",
       "      <td>No</td>\n",
       "    </tr>\n",
       "    <tr>\n",
       "      <th>2</th>\n",
       "      <td>2</td>\n",
       "      <td>1</td>\n",
       "      <td>0</td>\n",
       "      <td>1</td>\n",
       "      <td>0</td>\n",
       "      <td>0</td>\n",
       "      <td>2</td>\n",
       "      <td>Occasionally</td>\n",
       "      <td>Yes, frequently</td>\n",
       "      <td>No, not at all</td>\n",
       "      <td>No</td>\n",
       "    </tr>\n",
       "    <tr>\n",
       "      <th>3</th>\n",
       "      <td>3</td>\n",
       "      <td>2</td>\n",
       "      <td>0</td>\n",
       "      <td>0</td>\n",
       "      <td>0</td>\n",
       "      <td>1</td>\n",
       "      <td>1</td>\n",
       "      <td>Yes, frequently</td>\n",
       "      <td>Sometimes</td>\n",
       "      <td>No, not at all</td>\n",
       "      <td>Yes</td>\n",
       "    </tr>\n",
       "    <tr>\n",
       "      <th>4</th>\n",
       "      <td>0</td>\n",
       "      <td>2</td>\n",
       "      <td>0</td>\n",
       "      <td>1</td>\n",
       "      <td>0</td>\n",
       "      <td>2</td>\n",
       "      <td>0</td>\n",
       "      <td>Yes, frequently</td>\n",
       "      <td>Yes, frequently</td>\n",
       "      <td>Yes, often</td>\n",
       "      <td>Yes</td>\n",
       "    </tr>\n",
       "  </tbody>\n",
       "</table>\n",
       "</div>"
      ],
      "text/plain": [
       "   Sad or hopeless  Lost interest in activities  Difficulty concentrating  \\\n",
       "0                3                            0                         1   \n",
       "1                0                            0                         1   \n",
       "2                2                            1                         0   \n",
       "3                3                            2                         0   \n",
       "4                0                            2                         0   \n",
       "\n",
       "   Trouble sleeping or oversleeping  Fatigued or lack energy  \\\n",
       "0                                 0                        0   \n",
       "1                                 2                        0   \n",
       "2                                 1                        0   \n",
       "3                                 0                        0   \n",
       "4                                 1                        0   \n",
       "\n",
       "   Changes in appetite or weight  Feel guilty or worthless  \\\n",
       "0                              2                         1   \n",
       "1                              1                         0   \n",
       "2                              0                         2   \n",
       "3                              1                         1   \n",
       "4                              2                         0   \n",
       "\n",
       "  Thoughts of harming self or suicide Trouble performing daily tasks  \\\n",
       "0                     Yes, frequently                 No, not at all   \n",
       "1                      No, not at all                      Sometimes   \n",
       "2                        Occasionally                Yes, frequently   \n",
       "3                     Yes, frequently                      Sometimes   \n",
       "4                     Yes, frequently                Yes, frequently   \n",
       "\n",
       "  Feel disconnected or isolated Should consult a doctor  \n",
       "0                     Sometimes                     Yes  \n",
       "1                     Sometimes                      No  \n",
       "2                No, not at all                      No  \n",
       "3                No, not at all                     Yes  \n",
       "4                    Yes, often                     Yes  "
      ]
     },
     "execution_count": 20,
     "metadata": {},
     "output_type": "execute_result"
    }
   ],
   "source": [
    "df.head()"
   ]
  },
  {
   "cell_type": "code",
   "execution_count": 21,
   "metadata": {},
   "outputs": [
    {
     "data": {
      "text/plain": [
       "Thoughts of harming self or suicide\n",
       "No, not at all     172\n",
       "Occasionally       167\n",
       "Yes, frequently    161\n",
       "Name: count, dtype: int64"
      ]
     },
     "execution_count": 21,
     "metadata": {},
     "output_type": "execute_result"
    }
   ],
   "source": [
    "df['Thoughts of harming self or suicide'].value_counts()"
   ]
  },
  {
   "cell_type": "code",
   "execution_count": 22,
   "metadata": {},
   "outputs": [
    {
     "name": "stderr",
     "output_type": "stream",
     "text": [
      "/var/folders/c9/0xfhcggs0ml6v_d0sytc5cw40000gn/T/ipykernel_76152/2629290294.py:6: FutureWarning: Downcasting behavior in `replace` is deprecated and will be removed in a future version. To retain the old behavior, explicitly call `result.infer_objects(copy=False)`. To opt-in to the future behavior, set `pd.set_option('future.no_silent_downcasting', True)`\n",
      "  df[\"Thoughts of harming self or suicide\"] = df[\"Thoughts of harming self or suicide\"].replace(mapping)\n"
     ]
    }
   ],
   "source": [
    "mapping = {\n",
    "    \"No, not at all\": 0,\n",
    "    \"Occasionally\": 1,\n",
    "    \"Yes, frequently\": 2\n",
    "}\n",
    "df[\"Thoughts of harming self or suicide\"] = df[\"Thoughts of harming self or suicide\"].replace(mapping)\n",
    "\n"
   ]
  },
  {
   "cell_type": "code",
   "execution_count": 23,
   "metadata": {},
   "outputs": [
    {
     "data": {
      "text/plain": [
       "Trouble performing daily tasks\n",
       "Yes, frequently    183\n",
       "Sometimes          163\n",
       "No, not at all     154\n",
       "Name: count, dtype: int64"
      ]
     },
     "execution_count": 23,
     "metadata": {},
     "output_type": "execute_result"
    }
   ],
   "source": [
    "df['Trouble performing daily tasks'].value_counts()"
   ]
  },
  {
   "cell_type": "code",
   "execution_count": 24,
   "metadata": {},
   "outputs": [
    {
     "name": "stderr",
     "output_type": "stream",
     "text": [
      "/var/folders/c9/0xfhcggs0ml6v_d0sytc5cw40000gn/T/ipykernel_76152/1304834312.py:6: FutureWarning: Downcasting behavior in `replace` is deprecated and will be removed in a future version. To retain the old behavior, explicitly call `result.infer_objects(copy=False)`. To opt-in to the future behavior, set `pd.set_option('future.no_silent_downcasting', True)`\n",
      "  df[\"Trouble performing daily tasks\"] = df[\"Trouble performing daily tasks\"].replace(mapping)\n"
     ]
    }
   ],
   "source": [
    "mapping = {\n",
    "    \"Yes, frequently\": 0,\n",
    "    \"Sometimes\": 1,\n",
    "    \"No, not at all\": 2\n",
    "}\n",
    "df[\"Trouble performing daily tasks\"] = df[\"Trouble performing daily tasks\"].replace(mapping)\n",
    "\n"
   ]
  },
  {
   "cell_type": "code",
   "execution_count": 25,
   "metadata": {},
   "outputs": [
    {
     "data": {
      "text/html": [
       "<div>\n",
       "<style scoped>\n",
       "    .dataframe tbody tr th:only-of-type {\n",
       "        vertical-align: middle;\n",
       "    }\n",
       "\n",
       "    .dataframe tbody tr th {\n",
       "        vertical-align: top;\n",
       "    }\n",
       "\n",
       "    .dataframe thead th {\n",
       "        text-align: right;\n",
       "    }\n",
       "</style>\n",
       "<table border=\"1\" class=\"dataframe\">\n",
       "  <thead>\n",
       "    <tr style=\"text-align: right;\">\n",
       "      <th></th>\n",
       "      <th>Sad or hopeless</th>\n",
       "      <th>Lost interest in activities</th>\n",
       "      <th>Difficulty concentrating</th>\n",
       "      <th>Trouble sleeping or oversleeping</th>\n",
       "      <th>Fatigued or lack energy</th>\n",
       "      <th>Changes in appetite or weight</th>\n",
       "      <th>Feel guilty or worthless</th>\n",
       "      <th>Thoughts of harming self or suicide</th>\n",
       "      <th>Trouble performing daily tasks</th>\n",
       "      <th>Feel disconnected or isolated</th>\n",
       "      <th>Should consult a doctor</th>\n",
       "    </tr>\n",
       "  </thead>\n",
       "  <tbody>\n",
       "    <tr>\n",
       "      <th>0</th>\n",
       "      <td>3</td>\n",
       "      <td>0</td>\n",
       "      <td>1</td>\n",
       "      <td>0</td>\n",
       "      <td>0</td>\n",
       "      <td>2</td>\n",
       "      <td>1</td>\n",
       "      <td>2</td>\n",
       "      <td>2</td>\n",
       "      <td>Sometimes</td>\n",
       "      <td>Yes</td>\n",
       "    </tr>\n",
       "    <tr>\n",
       "      <th>1</th>\n",
       "      <td>0</td>\n",
       "      <td>0</td>\n",
       "      <td>1</td>\n",
       "      <td>2</td>\n",
       "      <td>0</td>\n",
       "      <td>1</td>\n",
       "      <td>0</td>\n",
       "      <td>0</td>\n",
       "      <td>1</td>\n",
       "      <td>Sometimes</td>\n",
       "      <td>No</td>\n",
       "    </tr>\n",
       "    <tr>\n",
       "      <th>2</th>\n",
       "      <td>2</td>\n",
       "      <td>1</td>\n",
       "      <td>0</td>\n",
       "      <td>1</td>\n",
       "      <td>0</td>\n",
       "      <td>0</td>\n",
       "      <td>2</td>\n",
       "      <td>1</td>\n",
       "      <td>0</td>\n",
       "      <td>No, not at all</td>\n",
       "      <td>No</td>\n",
       "    </tr>\n",
       "    <tr>\n",
       "      <th>3</th>\n",
       "      <td>3</td>\n",
       "      <td>2</td>\n",
       "      <td>0</td>\n",
       "      <td>0</td>\n",
       "      <td>0</td>\n",
       "      <td>1</td>\n",
       "      <td>1</td>\n",
       "      <td>2</td>\n",
       "      <td>1</td>\n",
       "      <td>No, not at all</td>\n",
       "      <td>Yes</td>\n",
       "    </tr>\n",
       "    <tr>\n",
       "      <th>4</th>\n",
       "      <td>0</td>\n",
       "      <td>2</td>\n",
       "      <td>0</td>\n",
       "      <td>1</td>\n",
       "      <td>0</td>\n",
       "      <td>2</td>\n",
       "      <td>0</td>\n",
       "      <td>2</td>\n",
       "      <td>0</td>\n",
       "      <td>Yes, often</td>\n",
       "      <td>Yes</td>\n",
       "    </tr>\n",
       "  </tbody>\n",
       "</table>\n",
       "</div>"
      ],
      "text/plain": [
       "   Sad or hopeless  Lost interest in activities  Difficulty concentrating  \\\n",
       "0                3                            0                         1   \n",
       "1                0                            0                         1   \n",
       "2                2                            1                         0   \n",
       "3                3                            2                         0   \n",
       "4                0                            2                         0   \n",
       "\n",
       "   Trouble sleeping or oversleeping  Fatigued or lack energy  \\\n",
       "0                                 0                        0   \n",
       "1                                 2                        0   \n",
       "2                                 1                        0   \n",
       "3                                 0                        0   \n",
       "4                                 1                        0   \n",
       "\n",
       "   Changes in appetite or weight  Feel guilty or worthless  \\\n",
       "0                              2                         1   \n",
       "1                              1                         0   \n",
       "2                              0                         2   \n",
       "3                              1                         1   \n",
       "4                              2                         0   \n",
       "\n",
       "   Thoughts of harming self or suicide  Trouble performing daily tasks  \\\n",
       "0                                    2                               2   \n",
       "1                                    0                               1   \n",
       "2                                    1                               0   \n",
       "3                                    2                               1   \n",
       "4                                    2                               0   \n",
       "\n",
       "  Feel disconnected or isolated Should consult a doctor  \n",
       "0                     Sometimes                     Yes  \n",
       "1                     Sometimes                      No  \n",
       "2                No, not at all                      No  \n",
       "3                No, not at all                     Yes  \n",
       "4                    Yes, often                     Yes  "
      ]
     },
     "execution_count": 25,
     "metadata": {},
     "output_type": "execute_result"
    }
   ],
   "source": [
    "df.head()"
   ]
  },
  {
   "cell_type": "code",
   "execution_count": 26,
   "metadata": {},
   "outputs": [
    {
     "data": {
      "text/plain": [
       "Feel disconnected or isolated\n",
       "Yes, often        173\n",
       "Sometimes         167\n",
       "No, not at all    160\n",
       "Name: count, dtype: int64"
      ]
     },
     "execution_count": 26,
     "metadata": {},
     "output_type": "execute_result"
    }
   ],
   "source": [
    "df['Feel disconnected or isolated'].value_counts()"
   ]
  },
  {
   "cell_type": "code",
   "execution_count": 27,
   "metadata": {},
   "outputs": [
    {
     "name": "stderr",
     "output_type": "stream",
     "text": [
      "/var/folders/c9/0xfhcggs0ml6v_d0sytc5cw40000gn/T/ipykernel_76152/239788348.py:6: FutureWarning: Downcasting behavior in `replace` is deprecated and will be removed in a future version. To retain the old behavior, explicitly call `result.infer_objects(copy=False)`. To opt-in to the future behavior, set `pd.set_option('future.no_silent_downcasting', True)`\n",
      "  df[\"Feel disconnected or isolated\"] = df[\"Feel disconnected or isolated\"].replace(mapping)\n"
     ]
    }
   ],
   "source": [
    "mapping = {\n",
    "    \"Yes, often\": 0,\n",
    "    \"Sometimes\": 1,\n",
    "    \"No, not at all\": 2\n",
    "}\n",
    "df[\"Feel disconnected or isolated\"] = df[\"Feel disconnected or isolated\"].replace(mapping)\n",
    "\n"
   ]
  },
  {
   "cell_type": "code",
   "execution_count": 28,
   "metadata": {},
   "outputs": [
    {
     "data": {
      "text/plain": [
       "Should consult a doctor\n",
       "No     261\n",
       "Yes    239\n",
       "Name: count, dtype: int64"
      ]
     },
     "execution_count": 28,
     "metadata": {},
     "output_type": "execute_result"
    }
   ],
   "source": [
    "df['Should consult a doctor'].value_counts()"
   ]
  },
  {
   "cell_type": "code",
   "execution_count": 29,
   "metadata": {},
   "outputs": [
    {
     "name": "stderr",
     "output_type": "stream",
     "text": [
      "/var/folders/c9/0xfhcggs0ml6v_d0sytc5cw40000gn/T/ipykernel_76152/2381564614.py:5: FutureWarning: Downcasting behavior in `replace` is deprecated and will be removed in a future version. To retain the old behavior, explicitly call `result.infer_objects(copy=False)`. To opt-in to the future behavior, set `pd.set_option('future.no_silent_downcasting', True)`\n",
      "  df[\"Should consult a doctor\"] = df[\"Should consult a doctor\"].replace(mapping)\n"
     ]
    }
   ],
   "source": [
    "mapping = {\n",
    "    \"No\": 0,\n",
    "    \"Yes\": 1,\n",
    "}\n",
    "df[\"Should consult a doctor\"] = df[\"Should consult a doctor\"].replace(mapping)\n",
    "\n"
   ]
  },
  {
   "cell_type": "code",
   "execution_count": 30,
   "metadata": {},
   "outputs": [
    {
     "data": {
      "text/html": [
       "<div>\n",
       "<style scoped>\n",
       "    .dataframe tbody tr th:only-of-type {\n",
       "        vertical-align: middle;\n",
       "    }\n",
       "\n",
       "    .dataframe tbody tr th {\n",
       "        vertical-align: top;\n",
       "    }\n",
       "\n",
       "    .dataframe thead th {\n",
       "        text-align: right;\n",
       "    }\n",
       "</style>\n",
       "<table border=\"1\" class=\"dataframe\">\n",
       "  <thead>\n",
       "    <tr style=\"text-align: right;\">\n",
       "      <th></th>\n",
       "      <th>Sad or hopeless</th>\n",
       "      <th>Lost interest in activities</th>\n",
       "      <th>Difficulty concentrating</th>\n",
       "      <th>Trouble sleeping or oversleeping</th>\n",
       "      <th>Fatigued or lack energy</th>\n",
       "      <th>Changes in appetite or weight</th>\n",
       "      <th>Feel guilty or worthless</th>\n",
       "      <th>Thoughts of harming self or suicide</th>\n",
       "      <th>Trouble performing daily tasks</th>\n",
       "      <th>Feel disconnected or isolated</th>\n",
       "      <th>Should consult a doctor</th>\n",
       "    </tr>\n",
       "  </thead>\n",
       "  <tbody>\n",
       "    <tr>\n",
       "      <th>0</th>\n",
       "      <td>3</td>\n",
       "      <td>0</td>\n",
       "      <td>1</td>\n",
       "      <td>0</td>\n",
       "      <td>0</td>\n",
       "      <td>2</td>\n",
       "      <td>1</td>\n",
       "      <td>2</td>\n",
       "      <td>2</td>\n",
       "      <td>1</td>\n",
       "      <td>1</td>\n",
       "    </tr>\n",
       "    <tr>\n",
       "      <th>1</th>\n",
       "      <td>0</td>\n",
       "      <td>0</td>\n",
       "      <td>1</td>\n",
       "      <td>2</td>\n",
       "      <td>0</td>\n",
       "      <td>1</td>\n",
       "      <td>0</td>\n",
       "      <td>0</td>\n",
       "      <td>1</td>\n",
       "      <td>1</td>\n",
       "      <td>0</td>\n",
       "    </tr>\n",
       "    <tr>\n",
       "      <th>2</th>\n",
       "      <td>2</td>\n",
       "      <td>1</td>\n",
       "      <td>0</td>\n",
       "      <td>1</td>\n",
       "      <td>0</td>\n",
       "      <td>0</td>\n",
       "      <td>2</td>\n",
       "      <td>1</td>\n",
       "      <td>0</td>\n",
       "      <td>2</td>\n",
       "      <td>0</td>\n",
       "    </tr>\n",
       "    <tr>\n",
       "      <th>3</th>\n",
       "      <td>3</td>\n",
       "      <td>2</td>\n",
       "      <td>0</td>\n",
       "      <td>0</td>\n",
       "      <td>0</td>\n",
       "      <td>1</td>\n",
       "      <td>1</td>\n",
       "      <td>2</td>\n",
       "      <td>1</td>\n",
       "      <td>2</td>\n",
       "      <td>1</td>\n",
       "    </tr>\n",
       "    <tr>\n",
       "      <th>4</th>\n",
       "      <td>0</td>\n",
       "      <td>2</td>\n",
       "      <td>0</td>\n",
       "      <td>1</td>\n",
       "      <td>0</td>\n",
       "      <td>2</td>\n",
       "      <td>0</td>\n",
       "      <td>2</td>\n",
       "      <td>0</td>\n",
       "      <td>0</td>\n",
       "      <td>1</td>\n",
       "    </tr>\n",
       "  </tbody>\n",
       "</table>\n",
       "</div>"
      ],
      "text/plain": [
       "   Sad or hopeless  Lost interest in activities  Difficulty concentrating  \\\n",
       "0                3                            0                         1   \n",
       "1                0                            0                         1   \n",
       "2                2                            1                         0   \n",
       "3                3                            2                         0   \n",
       "4                0                            2                         0   \n",
       "\n",
       "   Trouble sleeping or oversleeping  Fatigued or lack energy  \\\n",
       "0                                 0                        0   \n",
       "1                                 2                        0   \n",
       "2                                 1                        0   \n",
       "3                                 0                        0   \n",
       "4                                 1                        0   \n",
       "\n",
       "   Changes in appetite or weight  Feel guilty or worthless  \\\n",
       "0                              2                         1   \n",
       "1                              1                         0   \n",
       "2                              0                         2   \n",
       "3                              1                         1   \n",
       "4                              2                         0   \n",
       "\n",
       "   Thoughts of harming self or suicide  Trouble performing daily tasks  \\\n",
       "0                                    2                               2   \n",
       "1                                    0                               1   \n",
       "2                                    1                               0   \n",
       "3                                    2                               1   \n",
       "4                                    2                               0   \n",
       "\n",
       "   Feel disconnected or isolated  Should consult a doctor  \n",
       "0                              1                        1  \n",
       "1                              1                        0  \n",
       "2                              2                        0  \n",
       "3                              2                        1  \n",
       "4                              0                        1  "
      ]
     },
     "execution_count": 30,
     "metadata": {},
     "output_type": "execute_result"
    }
   ],
   "source": [
    "df.head()"
   ]
  },
  {
   "cell_type": "code",
   "execution_count": 31,
   "metadata": {},
   "outputs": [],
   "source": [
    "\n",
    "# Correct way to define X (features) and y (target)\n",
    "X = df[['Sad or hopeless','Lost interest in activities','Difficulty concentrating','Trouble sleeping or oversleeping','Fatigued or lack energy','Changes in appetite or weight','Feel guilty or worthless','Thoughts of harming self or suicide','Trouble performing daily tasks','Feel disconnected or isolated']]\n",
    "y = df['Should consult a doctor']"
   ]
  },
  {
   "cell_type": "code",
   "execution_count": 32,
   "metadata": {},
   "outputs": [],
   "source": [
    "from sklearn.preprocessing import StandardScaler\n",
    "\n",
    "scaler = StandardScaler()\n",
    "X_scaled = scaler.fit_transform(X)\n"
   ]
  },
  {
   "cell_type": "code",
   "execution_count": 34,
   "metadata": {},
   "outputs": [],
   "source": [
    "from imblearn.over_sampling import SMOTE\n",
    "\n",
    "smote = SMOTE(random_state=42)\n",
    "X_resampled, y_resampled = smote.fit_resample(X_scaled, y)\n"
   ]
  },
  {
   "cell_type": "code",
   "execution_count": 35,
   "metadata": {},
   "outputs": [],
   "source": [
    "from sklearn.model_selection import train_test_split\n",
    "\n",
    "X_train, X_test, y_train, y_test = train_test_split(X_resampled, y_resampled, test_size=0.2, random_state=42)\n"
   ]
  },
  {
   "cell_type": "code",
   "execution_count": 36,
   "metadata": {},
   "outputs": [
    {
     "data": {
      "text/html": [
       "<style>#sk-container-id-1 {\n",
       "  /* Definition of color scheme common for light and dark mode */\n",
       "  --sklearn-color-text: black;\n",
       "  --sklearn-color-line: gray;\n",
       "  /* Definition of color scheme for unfitted estimators */\n",
       "  --sklearn-color-unfitted-level-0: #fff5e6;\n",
       "  --sklearn-color-unfitted-level-1: #f6e4d2;\n",
       "  --sklearn-color-unfitted-level-2: #ffe0b3;\n",
       "  --sklearn-color-unfitted-level-3: chocolate;\n",
       "  /* Definition of color scheme for fitted estimators */\n",
       "  --sklearn-color-fitted-level-0: #f0f8ff;\n",
       "  --sklearn-color-fitted-level-1: #d4ebff;\n",
       "  --sklearn-color-fitted-level-2: #b3dbfd;\n",
       "  --sklearn-color-fitted-level-3: cornflowerblue;\n",
       "\n",
       "  /* Specific color for light theme */\n",
       "  --sklearn-color-text-on-default-background: var(--sg-text-color, var(--theme-code-foreground, var(--jp-content-font-color1, black)));\n",
       "  --sklearn-color-background: var(--sg-background-color, var(--theme-background, var(--jp-layout-color0, white)));\n",
       "  --sklearn-color-border-box: var(--sg-text-color, var(--theme-code-foreground, var(--jp-content-font-color1, black)));\n",
       "  --sklearn-color-icon: #696969;\n",
       "\n",
       "  @media (prefers-color-scheme: dark) {\n",
       "    /* Redefinition of color scheme for dark theme */\n",
       "    --sklearn-color-text-on-default-background: var(--sg-text-color, var(--theme-code-foreground, var(--jp-content-font-color1, white)));\n",
       "    --sklearn-color-background: var(--sg-background-color, var(--theme-background, var(--jp-layout-color0, #111)));\n",
       "    --sklearn-color-border-box: var(--sg-text-color, var(--theme-code-foreground, var(--jp-content-font-color1, white)));\n",
       "    --sklearn-color-icon: #878787;\n",
       "  }\n",
       "}\n",
       "\n",
       "#sk-container-id-1 {\n",
       "  color: var(--sklearn-color-text);\n",
       "}\n",
       "\n",
       "#sk-container-id-1 pre {\n",
       "  padding: 0;\n",
       "}\n",
       "\n",
       "#sk-container-id-1 input.sk-hidden--visually {\n",
       "  border: 0;\n",
       "  clip: rect(1px 1px 1px 1px);\n",
       "  clip: rect(1px, 1px, 1px, 1px);\n",
       "  height: 1px;\n",
       "  margin: -1px;\n",
       "  overflow: hidden;\n",
       "  padding: 0;\n",
       "  position: absolute;\n",
       "  width: 1px;\n",
       "}\n",
       "\n",
       "#sk-container-id-1 div.sk-dashed-wrapped {\n",
       "  border: 1px dashed var(--sklearn-color-line);\n",
       "  margin: 0 0.4em 0.5em 0.4em;\n",
       "  box-sizing: border-box;\n",
       "  padding-bottom: 0.4em;\n",
       "  background-color: var(--sklearn-color-background);\n",
       "}\n",
       "\n",
       "#sk-container-id-1 div.sk-container {\n",
       "  /* jupyter's `normalize.less` sets `[hidden] { display: none; }`\n",
       "     but bootstrap.min.css set `[hidden] { display: none !important; }`\n",
       "     so we also need the `!important` here to be able to override the\n",
       "     default hidden behavior on the sphinx rendered scikit-learn.org.\n",
       "     See: https://github.com/scikit-learn/scikit-learn/issues/21755 */\n",
       "  display: inline-block !important;\n",
       "  position: relative;\n",
       "}\n",
       "\n",
       "#sk-container-id-1 div.sk-text-repr-fallback {\n",
       "  display: none;\n",
       "}\n",
       "\n",
       "div.sk-parallel-item,\n",
       "div.sk-serial,\n",
       "div.sk-item {\n",
       "  /* draw centered vertical line to link estimators */\n",
       "  background-image: linear-gradient(var(--sklearn-color-text-on-default-background), var(--sklearn-color-text-on-default-background));\n",
       "  background-size: 2px 100%;\n",
       "  background-repeat: no-repeat;\n",
       "  background-position: center center;\n",
       "}\n",
       "\n",
       "/* Parallel-specific style estimator block */\n",
       "\n",
       "#sk-container-id-1 div.sk-parallel-item::after {\n",
       "  content: \"\";\n",
       "  width: 100%;\n",
       "  border-bottom: 2px solid var(--sklearn-color-text-on-default-background);\n",
       "  flex-grow: 1;\n",
       "}\n",
       "\n",
       "#sk-container-id-1 div.sk-parallel {\n",
       "  display: flex;\n",
       "  align-items: stretch;\n",
       "  justify-content: center;\n",
       "  background-color: var(--sklearn-color-background);\n",
       "  position: relative;\n",
       "}\n",
       "\n",
       "#sk-container-id-1 div.sk-parallel-item {\n",
       "  display: flex;\n",
       "  flex-direction: column;\n",
       "}\n",
       "\n",
       "#sk-container-id-1 div.sk-parallel-item:first-child::after {\n",
       "  align-self: flex-end;\n",
       "  width: 50%;\n",
       "}\n",
       "\n",
       "#sk-container-id-1 div.sk-parallel-item:last-child::after {\n",
       "  align-self: flex-start;\n",
       "  width: 50%;\n",
       "}\n",
       "\n",
       "#sk-container-id-1 div.sk-parallel-item:only-child::after {\n",
       "  width: 0;\n",
       "}\n",
       "\n",
       "/* Serial-specific style estimator block */\n",
       "\n",
       "#sk-container-id-1 div.sk-serial {\n",
       "  display: flex;\n",
       "  flex-direction: column;\n",
       "  align-items: center;\n",
       "  background-color: var(--sklearn-color-background);\n",
       "  padding-right: 1em;\n",
       "  padding-left: 1em;\n",
       "}\n",
       "\n",
       "\n",
       "/* Toggleable style: style used for estimator/Pipeline/ColumnTransformer box that is\n",
       "clickable and can be expanded/collapsed.\n",
       "- Pipeline and ColumnTransformer use this feature and define the default style\n",
       "- Estimators will overwrite some part of the style using the `sk-estimator` class\n",
       "*/\n",
       "\n",
       "/* Pipeline and ColumnTransformer style (default) */\n",
       "\n",
       "#sk-container-id-1 div.sk-toggleable {\n",
       "  /* Default theme specific background. It is overwritten whether we have a\n",
       "  specific estimator or a Pipeline/ColumnTransformer */\n",
       "  background-color: var(--sklearn-color-background);\n",
       "}\n",
       "\n",
       "/* Toggleable label */\n",
       "#sk-container-id-1 label.sk-toggleable__label {\n",
       "  cursor: pointer;\n",
       "  display: block;\n",
       "  width: 100%;\n",
       "  margin-bottom: 0;\n",
       "  padding: 0.5em;\n",
       "  box-sizing: border-box;\n",
       "  text-align: center;\n",
       "}\n",
       "\n",
       "#sk-container-id-1 label.sk-toggleable__label-arrow:before {\n",
       "  /* Arrow on the left of the label */\n",
       "  content: \"▸\";\n",
       "  float: left;\n",
       "  margin-right: 0.25em;\n",
       "  color: var(--sklearn-color-icon);\n",
       "}\n",
       "\n",
       "#sk-container-id-1 label.sk-toggleable__label-arrow:hover:before {\n",
       "  color: var(--sklearn-color-text);\n",
       "}\n",
       "\n",
       "/* Toggleable content - dropdown */\n",
       "\n",
       "#sk-container-id-1 div.sk-toggleable__content {\n",
       "  max-height: 0;\n",
       "  max-width: 0;\n",
       "  overflow: hidden;\n",
       "  text-align: left;\n",
       "  /* unfitted */\n",
       "  background-color: var(--sklearn-color-unfitted-level-0);\n",
       "}\n",
       "\n",
       "#sk-container-id-1 div.sk-toggleable__content.fitted {\n",
       "  /* fitted */\n",
       "  background-color: var(--sklearn-color-fitted-level-0);\n",
       "}\n",
       "\n",
       "#sk-container-id-1 div.sk-toggleable__content pre {\n",
       "  margin: 0.2em;\n",
       "  border-radius: 0.25em;\n",
       "  color: var(--sklearn-color-text);\n",
       "  /* unfitted */\n",
       "  background-color: var(--sklearn-color-unfitted-level-0);\n",
       "}\n",
       "\n",
       "#sk-container-id-1 div.sk-toggleable__content.fitted pre {\n",
       "  /* unfitted */\n",
       "  background-color: var(--sklearn-color-fitted-level-0);\n",
       "}\n",
       "\n",
       "#sk-container-id-1 input.sk-toggleable__control:checked~div.sk-toggleable__content {\n",
       "  /* Expand drop-down */\n",
       "  max-height: 200px;\n",
       "  max-width: 100%;\n",
       "  overflow: auto;\n",
       "}\n",
       "\n",
       "#sk-container-id-1 input.sk-toggleable__control:checked~label.sk-toggleable__label-arrow:before {\n",
       "  content: \"▾\";\n",
       "}\n",
       "\n",
       "/* Pipeline/ColumnTransformer-specific style */\n",
       "\n",
       "#sk-container-id-1 div.sk-label input.sk-toggleable__control:checked~label.sk-toggleable__label {\n",
       "  color: var(--sklearn-color-text);\n",
       "  background-color: var(--sklearn-color-unfitted-level-2);\n",
       "}\n",
       "\n",
       "#sk-container-id-1 div.sk-label.fitted input.sk-toggleable__control:checked~label.sk-toggleable__label {\n",
       "  background-color: var(--sklearn-color-fitted-level-2);\n",
       "}\n",
       "\n",
       "/* Estimator-specific style */\n",
       "\n",
       "/* Colorize estimator box */\n",
       "#sk-container-id-1 div.sk-estimator input.sk-toggleable__control:checked~label.sk-toggleable__label {\n",
       "  /* unfitted */\n",
       "  background-color: var(--sklearn-color-unfitted-level-2);\n",
       "}\n",
       "\n",
       "#sk-container-id-1 div.sk-estimator.fitted input.sk-toggleable__control:checked~label.sk-toggleable__label {\n",
       "  /* fitted */\n",
       "  background-color: var(--sklearn-color-fitted-level-2);\n",
       "}\n",
       "\n",
       "#sk-container-id-1 div.sk-label label.sk-toggleable__label,\n",
       "#sk-container-id-1 div.sk-label label {\n",
       "  /* The background is the default theme color */\n",
       "  color: var(--sklearn-color-text-on-default-background);\n",
       "}\n",
       "\n",
       "/* On hover, darken the color of the background */\n",
       "#sk-container-id-1 div.sk-label:hover label.sk-toggleable__label {\n",
       "  color: var(--sklearn-color-text);\n",
       "  background-color: var(--sklearn-color-unfitted-level-2);\n",
       "}\n",
       "\n",
       "/* Label box, darken color on hover, fitted */\n",
       "#sk-container-id-1 div.sk-label.fitted:hover label.sk-toggleable__label.fitted {\n",
       "  color: var(--sklearn-color-text);\n",
       "  background-color: var(--sklearn-color-fitted-level-2);\n",
       "}\n",
       "\n",
       "/* Estimator label */\n",
       "\n",
       "#sk-container-id-1 div.sk-label label {\n",
       "  font-family: monospace;\n",
       "  font-weight: bold;\n",
       "  display: inline-block;\n",
       "  line-height: 1.2em;\n",
       "}\n",
       "\n",
       "#sk-container-id-1 div.sk-label-container {\n",
       "  text-align: center;\n",
       "}\n",
       "\n",
       "/* Estimator-specific */\n",
       "#sk-container-id-1 div.sk-estimator {\n",
       "  font-family: monospace;\n",
       "  border: 1px dotted var(--sklearn-color-border-box);\n",
       "  border-radius: 0.25em;\n",
       "  box-sizing: border-box;\n",
       "  margin-bottom: 0.5em;\n",
       "  /* unfitted */\n",
       "  background-color: var(--sklearn-color-unfitted-level-0);\n",
       "}\n",
       "\n",
       "#sk-container-id-1 div.sk-estimator.fitted {\n",
       "  /* fitted */\n",
       "  background-color: var(--sklearn-color-fitted-level-0);\n",
       "}\n",
       "\n",
       "/* on hover */\n",
       "#sk-container-id-1 div.sk-estimator:hover {\n",
       "  /* unfitted */\n",
       "  background-color: var(--sklearn-color-unfitted-level-2);\n",
       "}\n",
       "\n",
       "#sk-container-id-1 div.sk-estimator.fitted:hover {\n",
       "  /* fitted */\n",
       "  background-color: var(--sklearn-color-fitted-level-2);\n",
       "}\n",
       "\n",
       "/* Specification for estimator info (e.g. \"i\" and \"?\") */\n",
       "\n",
       "/* Common style for \"i\" and \"?\" */\n",
       "\n",
       ".sk-estimator-doc-link,\n",
       "a:link.sk-estimator-doc-link,\n",
       "a:visited.sk-estimator-doc-link {\n",
       "  float: right;\n",
       "  font-size: smaller;\n",
       "  line-height: 1em;\n",
       "  font-family: monospace;\n",
       "  background-color: var(--sklearn-color-background);\n",
       "  border-radius: 1em;\n",
       "  height: 1em;\n",
       "  width: 1em;\n",
       "  text-decoration: none !important;\n",
       "  margin-left: 1ex;\n",
       "  /* unfitted */\n",
       "  border: var(--sklearn-color-unfitted-level-1) 1pt solid;\n",
       "  color: var(--sklearn-color-unfitted-level-1);\n",
       "}\n",
       "\n",
       ".sk-estimator-doc-link.fitted,\n",
       "a:link.sk-estimator-doc-link.fitted,\n",
       "a:visited.sk-estimator-doc-link.fitted {\n",
       "  /* fitted */\n",
       "  border: var(--sklearn-color-fitted-level-1) 1pt solid;\n",
       "  color: var(--sklearn-color-fitted-level-1);\n",
       "}\n",
       "\n",
       "/* On hover */\n",
       "div.sk-estimator:hover .sk-estimator-doc-link:hover,\n",
       ".sk-estimator-doc-link:hover,\n",
       "div.sk-label-container:hover .sk-estimator-doc-link:hover,\n",
       ".sk-estimator-doc-link:hover {\n",
       "  /* unfitted */\n",
       "  background-color: var(--sklearn-color-unfitted-level-3);\n",
       "  color: var(--sklearn-color-background);\n",
       "  text-decoration: none;\n",
       "}\n",
       "\n",
       "div.sk-estimator.fitted:hover .sk-estimator-doc-link.fitted:hover,\n",
       ".sk-estimator-doc-link.fitted:hover,\n",
       "div.sk-label-container:hover .sk-estimator-doc-link.fitted:hover,\n",
       ".sk-estimator-doc-link.fitted:hover {\n",
       "  /* fitted */\n",
       "  background-color: var(--sklearn-color-fitted-level-3);\n",
       "  color: var(--sklearn-color-background);\n",
       "  text-decoration: none;\n",
       "}\n",
       "\n",
       "/* Span, style for the box shown on hovering the info icon */\n",
       ".sk-estimator-doc-link span {\n",
       "  display: none;\n",
       "  z-index: 9999;\n",
       "  position: relative;\n",
       "  font-weight: normal;\n",
       "  right: .2ex;\n",
       "  padding: .5ex;\n",
       "  margin: .5ex;\n",
       "  width: min-content;\n",
       "  min-width: 20ex;\n",
       "  max-width: 50ex;\n",
       "  color: var(--sklearn-color-text);\n",
       "  box-shadow: 2pt 2pt 4pt #999;\n",
       "  /* unfitted */\n",
       "  background: var(--sklearn-color-unfitted-level-0);\n",
       "  border: .5pt solid var(--sklearn-color-unfitted-level-3);\n",
       "}\n",
       "\n",
       ".sk-estimator-doc-link.fitted span {\n",
       "  /* fitted */\n",
       "  background: var(--sklearn-color-fitted-level-0);\n",
       "  border: var(--sklearn-color-fitted-level-3);\n",
       "}\n",
       "\n",
       ".sk-estimator-doc-link:hover span {\n",
       "  display: block;\n",
       "}\n",
       "\n",
       "/* \"?\"-specific style due to the `<a>` HTML tag */\n",
       "\n",
       "#sk-container-id-1 a.estimator_doc_link {\n",
       "  float: right;\n",
       "  font-size: 1rem;\n",
       "  line-height: 1em;\n",
       "  font-family: monospace;\n",
       "  background-color: var(--sklearn-color-background);\n",
       "  border-radius: 1rem;\n",
       "  height: 1rem;\n",
       "  width: 1rem;\n",
       "  text-decoration: none;\n",
       "  /* unfitted */\n",
       "  color: var(--sklearn-color-unfitted-level-1);\n",
       "  border: var(--sklearn-color-unfitted-level-1) 1pt solid;\n",
       "}\n",
       "\n",
       "#sk-container-id-1 a.estimator_doc_link.fitted {\n",
       "  /* fitted */\n",
       "  border: var(--sklearn-color-fitted-level-1) 1pt solid;\n",
       "  color: var(--sklearn-color-fitted-level-1);\n",
       "}\n",
       "\n",
       "/* On hover */\n",
       "#sk-container-id-1 a.estimator_doc_link:hover {\n",
       "  /* unfitted */\n",
       "  background-color: var(--sklearn-color-unfitted-level-3);\n",
       "  color: var(--sklearn-color-background);\n",
       "  text-decoration: none;\n",
       "}\n",
       "\n",
       "#sk-container-id-1 a.estimator_doc_link.fitted:hover {\n",
       "  /* fitted */\n",
       "  background-color: var(--sklearn-color-fitted-level-3);\n",
       "}\n",
       "</style><div id=\"sk-container-id-1\" class=\"sk-top-container\"><div class=\"sk-text-repr-fallback\"><pre>RandomForestClassifier(random_state=42)</pre><b>In a Jupyter environment, please rerun this cell to show the HTML representation or trust the notebook. <br />On GitHub, the HTML representation is unable to render, please try loading this page with nbviewer.org.</b></div><div class=\"sk-container\" hidden><div class=\"sk-item\"><div class=\"sk-estimator fitted sk-toggleable\"><input class=\"sk-toggleable__control sk-hidden--visually\" id=\"sk-estimator-id-1\" type=\"checkbox\" checked><label for=\"sk-estimator-id-1\" class=\"sk-toggleable__label fitted sk-toggleable__label-arrow fitted\">&nbsp;&nbsp;RandomForestClassifier<a class=\"sk-estimator-doc-link fitted\" rel=\"noreferrer\" target=\"_blank\" href=\"https://scikit-learn.org/1.4/modules/generated/sklearn.ensemble.RandomForestClassifier.html\">?<span>Documentation for RandomForestClassifier</span></a><span class=\"sk-estimator-doc-link fitted\">i<span>Fitted</span></span></label><div class=\"sk-toggleable__content fitted\"><pre>RandomForestClassifier(random_state=42)</pre></div> </div></div></div></div>"
      ],
      "text/plain": [
       "RandomForestClassifier(random_state=42)"
      ]
     },
     "execution_count": 36,
     "metadata": {},
     "output_type": "execute_result"
    }
   ],
   "source": [
    "from sklearn.model_selection import train_test_split, cross_val_score\n",
    "from sklearn.preprocessing import StandardScaler\n",
    "from sklearn.ensemble import RandomForestClassifier\n",
    "from imblearn.over_sampling import SMOTE\n",
    "rf_model = RandomForestClassifier(n_estimators=100, random_state=42)\n",
    "rf_model.fit(X_train, y_train)"
   ]
  },
  {
   "cell_type": "code",
   "execution_count": 37,
   "metadata": {},
   "outputs": [
    {
     "name": "stdout",
     "output_type": "stream",
     "text": [
      "Random Forest Accuracy: 0.8571428571428571\n"
     ]
    }
   ],
   "source": [
    "accuracy = rf_model.score(X_test, y_test)\n",
    "print(\"Random Forest Accuracy:\", accuracy)"
   ]
  },
  {
   "cell_type": "code",
   "execution_count": 38,
   "metadata": {},
   "outputs": [
    {
     "name": "stdout",
     "output_type": "stream",
     "text": [
      "Enter the following values (0 or 1 or 2):\n",
      "\n",
      "\n",
      "Predicted Outcome Variable: 1\n"
     ]
    },
    {
     "name": "stderr",
     "output_type": "stream",
     "text": [
      "/opt/anaconda3/lib/python3.9/site-packages/sklearn/base.py:486: UserWarning: X has feature names, but RandomForestClassifier was fitted without feature names\n",
      "  warnings.warn(\n"
     ]
    }
   ],
   "source": [
    "import pandas as pd\n",
    "from sklearn.ensemble import RandomForestClassifier\n",
    "\n",
    "features = ['Sad or hopeless','Lost interest in activities','Difficulty concentrating','Trouble sleeping or oversleeping','Fatigued or lack energy','Changes in appetite or weight','Feel guilty or worthless','Thoughts of harming self or suicide','Trouble performing daily tasks','Feel disconnected or isolated']\n",
    "\n",
    "# Function to predict outcome based on user input\n",
    "def predict_outcome(Sad_or_hopeless,Lost_interest_in_activities,Difficulty_concentrating,Trouble_sleeping_or_oversleeping,Fatigued_or_lack_energy,Changes_in_appetite_or_weight,Feel_guilty_or_worthless,Thoughts_of_harming_self_or_suicide,Trouble_performing_daily_tasks,Feel_disconnected_or_isolated):\n",
    "\n",
    "    # Create a DataFrame for the input values\n",
    "    input_data = pd.DataFrame([[Sad_or_hopeless,Lost_interest_in_activities,Difficulty_concentrating,Trouble_sleeping_or_oversleeping,Fatigued_or_lack_energy,Changes_in_appetite_or_weight,Feel_guilty_or_worthless,Thoughts_of_harming_self_or_suicide,Trouble_performing_daily_tasks,Feel_disconnected_or_isolated]], columns=features)\n",
    "    \n",
    "    # Make prediction using the trained model\n",
    "    prediction = rf_model.predict(input_data)\n",
    "    \n",
    "    # Return the prediction\n",
    "    return prediction[0]\n",
    "\n",
    "# Function to get user input\n",
    "def get_user_input():\n",
    "    print(\"Enter the following values (0 or 1 or 2):\\n\")\n",
    "    Sad_or_hopeless = int(input(\"Sad_or_hopeless: \"))\n",
    "    Lost_interest_in_activities = int(input(\"Lost_interest_in_activities: \"))\n",
    "    Difficulty_concentrating = int(input(\"Difficulty_concentrating: \"))\n",
    "    Trouble_sleeping_or_oversleeping = int(input(\"Trouble_sleeping_or_oversleeping Breathing: \"))\n",
    "    Fatigued_or_lack_energy = int(input(\"Fatigued_or_lack_energy\"))\n",
    "    Changes_in_appetite_or_weight = int(input(\"Changes_in_appetite_or_weight \"))\n",
    "    Feel_guilty_or_worthless = int(input(\"Feel_guilty_or_worthless: \"))\n",
    "    Thoughts_of_harming_self_or_suicide = int(input(\"Thoughts_of_harming_self_or_suicide: \"))\n",
    "    Trouble_performing_daily_tasks = int(input(\"Trouble_performing_daily_tasks: \"))\n",
    "    Feel_disconnected_or_isolated=int(input(\"Feel_disconnected_or_isolated: \"))\n",
    "    \n",
    "    \n",
    "    # Make prediction\n",
    "    outcome = predict_outcome(Sad_or_hopeless,Lost_interest_in_activities,Difficulty_concentrating,Trouble_sleeping_or_oversleeping,Fatigued_or_lack_energy,Changes_in_appetite_or_weight,Feel_guilty_or_worthless,Thoughts_of_harming_self_or_suicide,Trouble_performing_daily_tasks,Feel_disconnected_or_isolated)\n",
    "    print(f\"\\nPredicted Outcome Variable: {outcome}\")\n",
    "\n",
    "# Main function\n",
    "if __name__ == \"__main__\":\n",
    "    get_user_input()\n"
   ]
  },
  {
   "cell_type": "code",
   "execution_count": 39,
   "metadata": {},
   "outputs": [
    {
     "name": "stdout",
     "output_type": "stream",
     "text": [
      "Model saved successfully!\n"
     ]
    }
   ],
   "source": [
    "import pickle\n",
    "\n",
    "# Assuming you have trained a model, e.g., using scikit-learn\n",
    "# model = your_trained_model\n",
    "\n",
    "# Save the model to a file\n",
    "with open('model.pkl', 'wb') as file:\n",
    "    pickle.dump(rf_model, file)\n",
    "\n",
    "print(\"Model saved successfully!\")\n"
   ]
  },
  {
   "cell_type": "code",
   "execution_count": null,
   "metadata": {},
   "outputs": [],
   "source": []
  }
 ],
 "metadata": {
  "kernelspec": {
   "display_name": "base",
   "language": "python",
   "name": "python3"
  },
  "language_info": {
   "codemirror_mode": {
    "name": "ipython",
    "version": 3
   },
   "file_extension": ".py",
   "mimetype": "text/x-python",
   "name": "python",
   "nbconvert_exporter": "python",
   "pygments_lexer": "ipython3",
   "version": "3.9.19"
  }
 },
 "nbformat": 4,
 "nbformat_minor": 2
}
